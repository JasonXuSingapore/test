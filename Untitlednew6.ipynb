{
  "cells": [
    {
      "cell_type": "code",
      "execution_count": 7,
      "metadata": {
        "colab": {
          "base_uri": "https://localhost:8080/"
        },
        "id": "yJ2GzPIcQ6Z1",
        "outputId": "1dde2528-b084-4609-977e-bcb248f7fc9e"
      },
      "outputs": [
        {
          "name": "stdout",
          "output_type": "stream",
          "text": [
            "Requirement already satisfied: pandas in /usr/local/lib/python3.10/dist-packages (1.5.3)\n",
            "Requirement already satisfied: numpy in /usr/local/lib/python3.10/dist-packages (1.23.5)\n",
            "Requirement already satisfied: keras in /usr/local/lib/python3.10/dist-packages (2.13.1)\n",
            "Requirement already satisfied: tensorflow in /usr/local/lib/python3.10/dist-packages (2.13.0)\n",
            "Requirement already satisfied: python-dateutil>=2.8.1 in /usr/local/lib/python3.10/dist-packages (from pandas) (2.8.2)\n",
            "Requirement already satisfied: pytz>=2020.1 in /usr/local/lib/python3.10/dist-packages (from pandas) (2023.3.post1)\n",
            "Requirement already satisfied: absl-py>=1.0.0 in /usr/local/lib/python3.10/dist-packages (from tensorflow) (1.4.0)\n",
            "Requirement already satisfied: astunparse>=1.6.0 in /usr/local/lib/python3.10/dist-packages (from tensorflow) (1.6.3)\n",
            "Requirement already satisfied: flatbuffers>=23.1.21 in /usr/local/lib/python3.10/dist-packages (from tensorflow) (23.5.26)\n",
            "Requirement already satisfied: gast<=0.4.0,>=0.2.1 in /usr/local/lib/python3.10/dist-packages (from tensorflow) (0.4.0)\n",
            "Requirement already satisfied: google-pasta>=0.1.1 in /usr/local/lib/python3.10/dist-packages (from tensorflow) (0.2.0)\n",
            "Requirement already satisfied: grpcio<2.0,>=1.24.3 in /usr/local/lib/python3.10/dist-packages (from tensorflow) (1.59.0)\n",
            "Requirement already satisfied: h5py>=2.9.0 in /usr/local/lib/python3.10/dist-packages (from tensorflow) (3.9.0)\n",
            "Requirement already satisfied: libclang>=13.0.0 in /usr/local/lib/python3.10/dist-packages (from tensorflow) (16.0.6)\n",
            "Requirement already satisfied: opt-einsum>=2.3.2 in /usr/local/lib/python3.10/dist-packages (from tensorflow) (3.3.0)\n",
            "Requirement already satisfied: packaging in /usr/local/lib/python3.10/dist-packages (from tensorflow) (23.2)\n",
            "Requirement already satisfied: protobuf!=4.21.0,!=4.21.1,!=4.21.2,!=4.21.3,!=4.21.4,!=4.21.5,<5.0.0dev,>=3.20.3 in /usr/local/lib/python3.10/dist-packages (from tensorflow) (3.20.3)\n",
            "Requirement already satisfied: setuptools in /usr/local/lib/python3.10/dist-packages (from tensorflow) (67.7.2)\n",
            "Requirement already satisfied: six>=1.12.0 in /usr/local/lib/python3.10/dist-packages (from tensorflow) (1.16.0)\n",
            "Requirement already satisfied: tensorboard<2.14,>=2.13 in /usr/local/lib/python3.10/dist-packages (from tensorflow) (2.13.0)\n",
            "Requirement already satisfied: tensorflow-estimator<2.14,>=2.13.0 in /usr/local/lib/python3.10/dist-packages (from tensorflow) (2.13.0)\n",
            "Requirement already satisfied: termcolor>=1.1.0 in /usr/local/lib/python3.10/dist-packages (from tensorflow) (2.3.0)\n",
            "Requirement already satisfied: typing-extensions<4.6.0,>=3.6.6 in /usr/local/lib/python3.10/dist-packages (from tensorflow) (4.5.0)\n",
            "Requirement already satisfied: wrapt>=1.11.0 in /usr/local/lib/python3.10/dist-packages (from tensorflow) (1.15.0)\n",
            "Requirement already satisfied: tensorflow-io-gcs-filesystem>=0.23.1 in /usr/local/lib/python3.10/dist-packages (from tensorflow) (0.34.0)\n",
            "Requirement already satisfied: wheel<1.0,>=0.23.0 in /usr/local/lib/python3.10/dist-packages (from astunparse>=1.6.0->tensorflow) (0.41.2)\n",
            "Requirement already satisfied: google-auth<3,>=1.6.3 in /usr/local/lib/python3.10/dist-packages (from tensorboard<2.14,>=2.13->tensorflow) (2.17.3)\n",
            "Requirement already satisfied: google-auth-oauthlib<1.1,>=0.5 in /usr/local/lib/python3.10/dist-packages (from tensorboard<2.14,>=2.13->tensorflow) (1.0.0)\n",
            "Requirement already satisfied: markdown>=2.6.8 in /usr/local/lib/python3.10/dist-packages (from tensorboard<2.14,>=2.13->tensorflow) (3.5)\n",
            "Requirement already satisfied: requests<3,>=2.21.0 in /usr/local/lib/python3.10/dist-packages (from tensorboard<2.14,>=2.13->tensorflow) (2.31.0)\n",
            "Requirement already satisfied: tensorboard-data-server<0.8.0,>=0.7.0 in /usr/local/lib/python3.10/dist-packages (from tensorboard<2.14,>=2.13->tensorflow) (0.7.1)\n",
            "Requirement already satisfied: werkzeug>=1.0.1 in /usr/local/lib/python3.10/dist-packages (from tensorboard<2.14,>=2.13->tensorflow) (3.0.0)\n",
            "Requirement already satisfied: cachetools<6.0,>=2.0.0 in /usr/local/lib/python3.10/dist-packages (from google-auth<3,>=1.6.3->tensorboard<2.14,>=2.13->tensorflow) (5.3.1)\n",
            "Requirement already satisfied: pyasn1-modules>=0.2.1 in /usr/local/lib/python3.10/dist-packages (from google-auth<3,>=1.6.3->tensorboard<2.14,>=2.13->tensorflow) (0.3.0)\n",
            "Requirement already satisfied: rsa<5,>=3.1.4 in /usr/local/lib/python3.10/dist-packages (from google-auth<3,>=1.6.3->tensorboard<2.14,>=2.13->tensorflow) (4.9)\n",
            "Requirement already satisfied: requests-oauthlib>=0.7.0 in /usr/local/lib/python3.10/dist-packages (from google-auth-oauthlib<1.1,>=0.5->tensorboard<2.14,>=2.13->tensorflow) (1.3.1)\n",
            "Requirement already satisfied: charset-normalizer<4,>=2 in /usr/local/lib/python3.10/dist-packages (from requests<3,>=2.21.0->tensorboard<2.14,>=2.13->tensorflow) (3.3.0)\n",
            "Requirement already satisfied: idna<4,>=2.5 in /usr/local/lib/python3.10/dist-packages (from requests<3,>=2.21.0->tensorboard<2.14,>=2.13->tensorflow) (3.4)\n",
            "Requirement already satisfied: urllib3<3,>=1.21.1 in /usr/local/lib/python3.10/dist-packages (from requests<3,>=2.21.0->tensorboard<2.14,>=2.13->tensorflow) (2.0.7)\n",
            "Requirement already satisfied: certifi>=2017.4.17 in /usr/local/lib/python3.10/dist-packages (from requests<3,>=2.21.0->tensorboard<2.14,>=2.13->tensorflow) (2023.7.22)\n",
            "Requirement already satisfied: MarkupSafe>=2.1.1 in /usr/local/lib/python3.10/dist-packages (from werkzeug>=1.0.1->tensorboard<2.14,>=2.13->tensorflow) (2.1.3)\n",
            "Requirement already satisfied: pyasn1<0.6.0,>=0.4.6 in /usr/local/lib/python3.10/dist-packages (from pyasn1-modules>=0.2.1->google-auth<3,>=1.6.3->tensorboard<2.14,>=2.13->tensorflow) (0.5.0)\n",
            "Requirement already satisfied: oauthlib>=3.0.0 in /usr/local/lib/python3.10/dist-packages (from requests-oauthlib>=0.7.0->google-auth-oauthlib<1.1,>=0.5->tensorboard<2.14,>=2.13->tensorflow) (3.2.2)\n"
          ]
        }
      ],
      "source": [
        "pip install pandas numpy keras tensorflow"
      ]
    },
    {
      "cell_type": "code",
      "execution_count": 8,
      "metadata": {
        "colab": {
          "base_uri": "https://localhost:8080/"
        },
        "id": "YiWF0ByFVc0q",
        "outputId": "9fa9d341-d7fe-43e2-bdb8-af3f77d91bba"
      },
      "outputs": [
        {
          "name": "stdout",
          "output_type": "stream",
          "text": [
            "Requirement already satisfied: pandas in /usr/local/lib/python3.10/dist-packages (1.5.3)\n",
            "Requirement already satisfied: python-dateutil>=2.8.1 in /usr/local/lib/python3.10/dist-packages (from pandas) (2.8.2)\n",
            "Requirement already satisfied: pytz>=2020.1 in /usr/local/lib/python3.10/dist-packages (from pandas) (2023.3.post1)\n",
            "Requirement already satisfied: numpy>=1.21.0 in /usr/local/lib/python3.10/dist-packages (from pandas) (1.23.5)\n",
            "Requirement already satisfied: six>=1.5 in /usr/local/lib/python3.10/dist-packages (from python-dateutil>=2.8.1->pandas) (1.16.0)\n"
          ]
        }
      ],
      "source": [
        "pip install pandas"
      ]
    },
    {
      "cell_type": "code",
      "execution_count": 2,
      "metadata": {
        "id": "9wd9_ygiW19s"
      },
      "outputs": [],
      "source": [
        "import numpy as np\n",
        "import pandas as pd\n",
        "from keras.models import Sequential\n",
        "from keras.layers import Dense\n",
        "from keras.optimizers import Adam\n",
        "import tensorflow as tf"
      ]
    },
    {
      "cell_type": "code",
      "execution_count": 3,
      "metadata": {
        "id": "hLK1KOHzW73F"
      },
      "outputs": [],
      "source": [
        "data = pd.read_csv('HistoricalData_1697775556954.csv')"
      ]
    },
    {
      "cell_type": "code",
      "execution_count": 4,
      "metadata": {
        "id": "4ZDUqNx3YoXh"
      },
      "outputs": [],
      "source": [
        "import pandas as pd\n",
        "import numpy as np\n",
        "import matplotlib.pyplot as plt\n",
        "%matplotlib inline\n",
        "from matplotlib.pylab import rcParams\n",
        "rcParams['figure.figsize']=20,10\n",
        "from keras.models import Sequential\n",
        "from keras.layers import LSTM, Dropout, Dense\n",
        "from sklearn.preprocessing import MinMaxScaler"
      ]
    },
    {
      "cell_type": "code",
      "execution_count": 5,
      "metadata": {
        "id": "zsKBCnFcYoxm"
      },
      "outputs": [],
      "source": [
        "data = pd.read_csv('HistoricalData_1697775556954.csv')"
      ]
    },
    {
      "cell_type": "code",
      "execution_count": 6,
      "metadata": {
        "id": "1QreEgzcaW4n"
      },
      "outputs": [],
      "source": [
        "import pandas as pd\n",
        "df = pd.read_csv('HistoricalData_1697775556954.csv')\n"
      ]
    },
    {
      "cell_type": "code",
      "execution_count": 7,
      "metadata": {
        "colab": {
          "base_uri": "https://localhost:8080/",
          "height": 206
        },
        "id": "sfsH22c9ail7",
        "outputId": "3041dfda-d525-440e-faa1-e5c2afdf45f9"
      },
      "outputs": [
        {
          "data": {
            "text/html": [
              "<div>\n",
              "<style scoped>\n",
              "    .dataframe tbody tr th:only-of-type {\n",
              "        vertical-align: middle;\n",
              "    }\n",
              "\n",
              "    .dataframe tbody tr th {\n",
              "        vertical-align: top;\n",
              "    }\n",
              "\n",
              "    .dataframe thead th {\n",
              "        text-align: right;\n",
              "    }\n",
              "</style>\n",
              "<table border=\"1\" class=\"dataframe\">\n",
              "  <thead>\n",
              "    <tr style=\"text-align: right;\">\n",
              "      <th></th>\n",
              "      <th>Date</th>\n",
              "      <th>Close/Last</th>\n",
              "      <th>Volume</th>\n",
              "      <th>Open</th>\n",
              "      <th>High</th>\n",
              "      <th>Low</th>\n",
              "    </tr>\n",
              "  </thead>\n",
              "  <tbody>\n",
              "    <tr>\n",
              "      <th>0</th>\n",
              "      <td>10/19/2023</td>\n",
              "      <td>$175.46</td>\n",
              "      <td>59302860</td>\n",
              "      <td>$176.04</td>\n",
              "      <td>$177.84</td>\n",
              "      <td>$175.19</td>\n",
              "    </tr>\n",
              "    <tr>\n",
              "      <th>1</th>\n",
              "      <td>10/18/2023</td>\n",
              "      <td>$175.84</td>\n",
              "      <td>54764380</td>\n",
              "      <td>$175.58</td>\n",
              "      <td>$177.575</td>\n",
              "      <td>$175.11</td>\n",
              "    </tr>\n",
              "    <tr>\n",
              "      <th>2</th>\n",
              "      <td>10/17/2023</td>\n",
              "      <td>$177.15</td>\n",
              "      <td>57549350</td>\n",
              "      <td>$176.645</td>\n",
              "      <td>$178.42</td>\n",
              "      <td>$174.80</td>\n",
              "    </tr>\n",
              "    <tr>\n",
              "      <th>3</th>\n",
              "      <td>10/16/2023</td>\n",
              "      <td>$178.72</td>\n",
              "      <td>52516980</td>\n",
              "      <td>$176.75</td>\n",
              "      <td>$179.075</td>\n",
              "      <td>$176.51</td>\n",
              "    </tr>\n",
              "    <tr>\n",
              "      <th>4</th>\n",
              "      <td>10/13/2023</td>\n",
              "      <td>$178.85</td>\n",
              "      <td>51456080</td>\n",
              "      <td>$181.42</td>\n",
              "      <td>$181.93</td>\n",
              "      <td>$178.14</td>\n",
              "    </tr>\n",
              "  </tbody>\n",
              "</table>\n",
              "</div>"
            ],
            "text/plain": [
              "         Date Close/Last    Volume      Open      High      Low\n",
              "0  10/19/2023    $175.46  59302860   $176.04   $177.84  $175.19\n",
              "1  10/18/2023    $175.84  54764380   $175.58  $177.575  $175.11\n",
              "2  10/17/2023    $177.15  57549350  $176.645   $178.42  $174.80\n",
              "3  10/16/2023    $178.72  52516980   $176.75  $179.075  $176.51\n",
              "4  10/13/2023    $178.85  51456080   $181.42   $181.93  $178.14"
            ]
          },
          "execution_count": 7,
          "metadata": {},
          "output_type": "execute_result"
        }
      ],
      "source": [
        "df.head()"
      ]
    },
    {
      "cell_type": "code",
      "execution_count": 8,
      "metadata": {
        "colab": {
          "base_uri": "https://localhost:8080/",
          "height": 269
        },
        "id": "o3DZ5tQ0a0Wb",
        "outputId": "3a7a0191-48ec-411e-98ad-505a1bf840c4"
      },
      "outputs": [
        {
          "data": {
            "text/html": [
              "<div>\n",
              "<style scoped>\n",
              "    .dataframe tbody tr th:only-of-type {\n",
              "        vertical-align: middle;\n",
              "    }\n",
              "\n",
              "    .dataframe tbody tr th {\n",
              "        vertical-align: top;\n",
              "    }\n",
              "\n",
              "    .dataframe thead th {\n",
              "        text-align: right;\n",
              "    }\n",
              "</style>\n",
              "<table border=\"1\" class=\"dataframe\">\n",
              "  <thead>\n",
              "    <tr style=\"text-align: right;\">\n",
              "      <th></th>\n",
              "      <th>Date</th>\n",
              "      <th>Close/Last</th>\n",
              "      <th>Volume</th>\n",
              "      <th>Open</th>\n",
              "      <th>High</th>\n",
              "      <th>Low</th>\n",
              "    </tr>\n",
              "  </thead>\n",
              "  <tbody>\n",
              "    <tr>\n",
              "      <th>15</th>\n",
              "      <td>09/28/2023</td>\n",
              "      <td>$170.69</td>\n",
              "      <td>56294420</td>\n",
              "      <td>$169.34</td>\n",
              "      <td>$172.03</td>\n",
              "      <td>$167.62</td>\n",
              "    </tr>\n",
              "    <tr>\n",
              "      <th>16</th>\n",
              "      <td>09/27/2023</td>\n",
              "      <td>$170.43</td>\n",
              "      <td>66921810</td>\n",
              "      <td>$172.62</td>\n",
              "      <td>$173.04</td>\n",
              "      <td>$169.05</td>\n",
              "    </tr>\n",
              "    <tr>\n",
              "      <th>17</th>\n",
              "      <td>09/26/2023</td>\n",
              "      <td>$171.96</td>\n",
              "      <td>64588950</td>\n",
              "      <td>$174.82</td>\n",
              "      <td>$175.20</td>\n",
              "      <td>$171.66</td>\n",
              "    </tr>\n",
              "    <tr>\n",
              "      <th>18</th>\n",
              "      <td>09/25/2023</td>\n",
              "      <td>$176.08</td>\n",
              "      <td>46172740</td>\n",
              "      <td>$174.20</td>\n",
              "      <td>$176.97</td>\n",
              "      <td>$174.15</td>\n",
              "    </tr>\n",
              "    <tr>\n",
              "      <th>19</th>\n",
              "      <td>09/22/2023</td>\n",
              "      <td>$174.79</td>\n",
              "      <td>56725390</td>\n",
              "      <td>$174.67</td>\n",
              "      <td>$177.079</td>\n",
              "      <td>$174.05</td>\n",
              "    </tr>\n",
              "    <tr>\n",
              "      <th>20</th>\n",
              "      <td>09/21/2023</td>\n",
              "      <td>$173.93</td>\n",
              "      <td>63149120</td>\n",
              "      <td>$174.55</td>\n",
              "      <td>$176.30</td>\n",
              "      <td>$173.86</td>\n",
              "    </tr>\n",
              "    <tr>\n",
              "      <th>21</th>\n",
              "      <td>09/20/2023</td>\n",
              "      <td>$175.49</td>\n",
              "      <td>58436180</td>\n",
              "      <td>$179.26</td>\n",
              "      <td>$179.695</td>\n",
              "      <td>$175.40</td>\n",
              "    </tr>\n",
              "  </tbody>\n",
              "</table>\n",
              "</div>"
            ],
            "text/plain": [
              "          Date Close/Last    Volume     Open      High      Low\n",
              "15  09/28/2023    $170.69  56294420  $169.34   $172.03  $167.62\n",
              "16  09/27/2023    $170.43  66921810  $172.62   $173.04  $169.05\n",
              "17  09/26/2023    $171.96  64588950  $174.82   $175.20  $171.66\n",
              "18  09/25/2023    $176.08  46172740  $174.20   $176.97  $174.15\n",
              "19  09/22/2023    $174.79  56725390  $174.67  $177.079  $174.05\n",
              "20  09/21/2023    $173.93  63149120  $174.55   $176.30  $173.86\n",
              "21  09/20/2023    $175.49  58436180  $179.26  $179.695  $175.40"
            ]
          },
          "execution_count": 8,
          "metadata": {},
          "output_type": "execute_result"
        }
      ],
      "source": [
        "df.tail(7)\n"
      ]
    },
    {
      "cell_type": "code",
      "execution_count": 9,
      "metadata": {
        "colab": {
          "base_uri": "https://localhost:8080/",
          "height": 206
        },
        "id": "CIjc2Q6ma7f2",
        "outputId": "b0b70c70-18b1-40ad-be6d-1c0571e0ca9f"
      },
      "outputs": [
        {
          "data": {
            "text/html": [
              "<div>\n",
              "<style scoped>\n",
              "    .dataframe tbody tr th:only-of-type {\n",
              "        vertical-align: middle;\n",
              "    }\n",
              "\n",
              "    .dataframe tbody tr th {\n",
              "        vertical-align: top;\n",
              "    }\n",
              "\n",
              "    .dataframe thead th {\n",
              "        text-align: right;\n",
              "    }\n",
              "</style>\n",
              "<table border=\"1\" class=\"dataframe\">\n",
              "  <thead>\n",
              "    <tr style=\"text-align: right;\">\n",
              "      <th></th>\n",
              "      <th>Date</th>\n",
              "      <th>Close/Last</th>\n",
              "    </tr>\n",
              "  </thead>\n",
              "  <tbody>\n",
              "    <tr>\n",
              "      <th>0</th>\n",
              "      <td>10/19/2023</td>\n",
              "      <td>$175.46</td>\n",
              "    </tr>\n",
              "    <tr>\n",
              "      <th>1</th>\n",
              "      <td>10/18/2023</td>\n",
              "      <td>$175.84</td>\n",
              "    </tr>\n",
              "    <tr>\n",
              "      <th>2</th>\n",
              "      <td>10/17/2023</td>\n",
              "      <td>$177.15</td>\n",
              "    </tr>\n",
              "    <tr>\n",
              "      <th>3</th>\n",
              "      <td>10/16/2023</td>\n",
              "      <td>$178.72</td>\n",
              "    </tr>\n",
              "    <tr>\n",
              "      <th>4</th>\n",
              "      <td>10/13/2023</td>\n",
              "      <td>$178.85</td>\n",
              "    </tr>\n",
              "  </tbody>\n",
              "</table>\n",
              "</div>"
            ],
            "text/plain": [
              "         Date Close/Last\n",
              "0  10/19/2023    $175.46\n",
              "1  10/18/2023    $175.84\n",
              "2  10/17/2023    $177.15\n",
              "3  10/16/2023    $178.72\n",
              "4  10/13/2023    $178.85"
            ]
          },
          "execution_count": 9,
          "metadata": {},
          "output_type": "execute_result"
        }
      ],
      "source": [
        "df = df[['Date','Close/Last']]\n",
        "df.head()"
      ]
    },
    {
      "cell_type": "code",
      "execution_count": 10,
      "metadata": {
        "id": "pc5I5aFUb8ZG"
      },
      "outputs": [],
      "source": [
        "df = df.replace({'\\$':''}, regex = True)\n"
      ]
    },
    {
      "cell_type": "code",
      "execution_count": 11,
      "metadata": {
        "colab": {
          "base_uri": "https://localhost:8080/"
        },
        "id": "b1AJ21D-cCsl",
        "outputId": "46006e7e-2328-4b56-caeb-576c05330836"
      },
      "outputs": [
        {
          "data": {
            "text/plain": [
              "Date          datetime64[ns]\n",
              "Close/Last           float64\n",
              "dtype: object"
            ]
          },
          "execution_count": 11,
          "metadata": {},
          "output_type": "execute_result"
        }
      ],
      "source": [
        "df = df.astype({\"Close/Last\": float})\n",
        "df[\"Date\"] = pd.to_datetime(df.Date, format=\"%m/%d/%Y\")\n",
        "df.dtypes\n"
      ]
    },
    {
      "cell_type": "code",
      "execution_count": 12,
      "metadata": {
        "id": "kynyQrbUcz4_"
      },
      "outputs": [],
      "source": [
        "df.index = df['Date']\n"
      ]
    },
    {
      "cell_type": "code",
      "execution_count": 13,
      "metadata": {
        "colab": {
          "base_uri": "https://localhost:8080/",
          "height": 867
        },
        "id": "zDu15ZPOc0bt",
        "outputId": "e95767d9-ac58-47d2-c366-5291f90890d2"
      },
      "outputs": [
        {
          "data": {
            "text/plain": [
              "[<matplotlib.lines.Line2D at 0x1d340fe9030>]"
            ]
          },
          "execution_count": 13,
          "metadata": {},
          "output_type": "execute_result"
        },
        {
          "data": {
            "image/png": "[encoded data removed]",
            "text/plain": [
              "<Figure size 2000x1000 with 1 Axes>"
            ]
          },
          "metadata": {},
          "output_type": "display_data"
        }
      ],
      "source": [
        "plt.plot(df[\"Close/Last\"],label='Close Price history')"
      ]
    },
    {
      "cell_type": "code",
      "execution_count": 14,
      "metadata": {
        "id": "YUR4WcTHeF1u"
      },
      "outputs": [
        {
          "name": "stderr",
          "output_type": "stream",
          "text": [
            "C:\\Users\\97492\\AppData\\Local\\Temp\\ipykernel_30136\\2131970964.py:4: FutureWarning: Series.__getitem__ treating keys as positions is deprecated. In a future version, integer keys will always be treated as labels (consistent with DataFrame behavior). To access a value by position, use `ser.iloc[pos]`\n",
            "  data[\"Date\"][i]=df['Date'][i]\n",
            "C:\\Users\\97492\\AppData\\Local\\Temp\\ipykernel_30136\\2131970964.py:5: FutureWarning: Series.__getitem__ treating keys as positions is deprecated. In a future version, integer keys will always be treated as labels (consistent with DataFrame behavior). To access a value by position, use `ser.iloc[pos]`\n",
            "  data[\"Close/Last\"][i]=df[\"Close/Last\"][i]\n"
          ]
        }
      ],
      "source": [
        "df = df.sort_index(ascending=True,axis=0)\n",
        "data = pd.DataFrame(index=range(0,len(df)),columns=['Date','Close/Last'])\n",
        "for i in range(0,len(data)):\n",
        " data[\"Date\"][i]=df['Date'][i]\n",
        " data[\"Close/Last\"][i]=df[\"Close/Last\"][i]\n",
        " data.head()\n"
      ]
    },
    {
      "cell_type": "code",
      "execution_count": 15,
      "metadata": {
        "colab": {
          "base_uri": "https://localhost:8080/",
          "height": 739
        },
        "id": "jo5Nk2R1jy3F",
        "outputId": "0190057b-d8be-4afa-826e-1097bbb6e76a"
      },
      "outputs": [
        {
          "data": {
            "text/html": [
              "<div>\n",
              "<style scoped>\n",
              "    .dataframe tbody tr th:only-of-type {\n",
              "        vertical-align: middle;\n",
              "    }\n",
              "\n",
              "    .dataframe tbody tr th {\n",
              "        vertical-align: top;\n",
              "    }\n",
              "\n",
              "    .dataframe thead th {\n",
              "        text-align: right;\n",
              "    }\n",
              "</style>\n",
              "<table border=\"1\" class=\"dataframe\">\n",
              "  <thead>\n",
              "    <tr style=\"text-align: right;\">\n",
              "      <th></th>\n",
              "      <th>Date</th>\n",
              "      <th>Close/Last</th>\n",
              "    </tr>\n",
              "  </thead>\n",
              "  <tbody>\n",
              "    <tr>\n",
              "      <th>0</th>\n",
              "      <td>2023-09-20 00:00:00</td>\n",
              "      <td>175.49</td>\n",
              "    </tr>\n",
              "    <tr>\n",
              "      <th>1</th>\n",
              "      <td>2023-09-21 00:00:00</td>\n",
              "      <td>173.93</td>\n",
              "    </tr>\n",
              "    <tr>\n",
              "      <th>2</th>\n",
              "      <td>2023-09-22 00:00:00</td>\n",
              "      <td>174.79</td>\n",
              "    </tr>\n",
              "    <tr>\n",
              "      <th>3</th>\n",
              "      <td>2023-09-25 00:00:00</td>\n",
              "      <td>176.08</td>\n",
              "    </tr>\n",
              "    <tr>\n",
              "      <th>4</th>\n",
              "      <td>2023-09-26 00:00:00</td>\n",
              "      <td>171.96</td>\n",
              "    </tr>\n",
              "    <tr>\n",
              "      <th>5</th>\n",
              "      <td>2023-09-27 00:00:00</td>\n",
              "      <td>170.43</td>\n",
              "    </tr>\n",
              "    <tr>\n",
              "      <th>6</th>\n",
              "      <td>2023-09-28 00:00:00</td>\n",
              "      <td>170.69</td>\n",
              "    </tr>\n",
              "    <tr>\n",
              "      <th>7</th>\n",
              "      <td>2023-09-29 00:00:00</td>\n",
              "      <td>171.21</td>\n",
              "    </tr>\n",
              "    <tr>\n",
              "      <th>8</th>\n",
              "      <td>2023-10-02 00:00:00</td>\n",
              "      <td>173.75</td>\n",
              "    </tr>\n",
              "    <tr>\n",
              "      <th>9</th>\n",
              "      <td>2023-10-03 00:00:00</td>\n",
              "      <td>172.4</td>\n",
              "    </tr>\n",
              "    <tr>\n",
              "      <th>10</th>\n",
              "      <td>2023-10-04 00:00:00</td>\n",
              "      <td>173.66</td>\n",
              "    </tr>\n",
              "    <tr>\n",
              "      <th>11</th>\n",
              "      <td>2023-10-05 00:00:00</td>\n",
              "      <td>174.91</td>\n",
              "    </tr>\n",
              "    <tr>\n",
              "      <th>12</th>\n",
              "      <td>2023-10-06 00:00:00</td>\n",
              "      <td>177.49</td>\n",
              "    </tr>\n",
              "    <tr>\n",
              "      <th>13</th>\n",
              "      <td>2023-10-09 00:00:00</td>\n",
              "      <td>178.99</td>\n",
              "    </tr>\n",
              "    <tr>\n",
              "      <th>14</th>\n",
              "      <td>2023-10-10 00:00:00</td>\n",
              "      <td>178.39</td>\n",
              "    </tr>\n",
              "    <tr>\n",
              "      <th>15</th>\n",
              "      <td>2023-10-11 00:00:00</td>\n",
              "      <td>179.8</td>\n",
              "    </tr>\n",
              "    <tr>\n",
              "      <th>16</th>\n",
              "      <td>2023-10-12 00:00:00</td>\n",
              "      <td>180.71</td>\n",
              "    </tr>\n",
              "    <tr>\n",
              "      <th>17</th>\n",
              "      <td>2023-10-13 00:00:00</td>\n",
              "      <td>178.85</td>\n",
              "    </tr>\n",
              "    <tr>\n",
              "      <th>18</th>\n",
              "      <td>2023-10-16 00:00:00</td>\n",
              "      <td>178.72</td>\n",
              "    </tr>\n",
              "    <tr>\n",
              "      <th>19</th>\n",
              "      <td>2023-10-17 00:00:00</td>\n",
              "      <td>177.15</td>\n",
              "    </tr>\n",
              "    <tr>\n",
              "      <th>20</th>\n",
              "      <td>2023-10-18 00:00:00</td>\n",
              "      <td>175.84</td>\n",
              "    </tr>\n",
              "    <tr>\n",
              "      <th>21</th>\n",
              "      <td>2023-10-19 00:00:00</td>\n",
              "      <td>175.46</td>\n",
              "    </tr>\n",
              "  </tbody>\n",
              "</table>\n",
              "</div>"
            ],
            "text/plain": [
              "                   Date Close/Last\n",
              "0   2023-09-20 00:00:00     175.49\n",
              "1   2023-09-21 00:00:00     173.93\n",
              "2   2023-09-22 00:00:00     174.79\n",
              "3   2023-09-25 00:00:00     176.08\n",
              "4   2023-09-26 00:00:00     171.96\n",
              "5   2023-09-27 00:00:00     170.43\n",
              "6   2023-09-28 00:00:00     170.69\n",
              "7   2023-09-29 00:00:00     171.21\n",
              "8   2023-10-02 00:00:00     173.75\n",
              "9   2023-10-03 00:00:00      172.4\n",
              "10  2023-10-04 00:00:00     173.66\n",
              "11  2023-10-05 00:00:00     174.91\n",
              "12  2023-10-06 00:00:00     177.49\n",
              "13  2023-10-09 00:00:00     178.99\n",
              "14  2023-10-10 00:00:00     178.39\n",
              "15  2023-10-11 00:00:00      179.8\n",
              "16  2023-10-12 00:00:00     180.71\n",
              "17  2023-10-13 00:00:00     178.85\n",
              "18  2023-10-16 00:00:00     178.72\n",
              "19  2023-10-17 00:00:00     177.15\n",
              "20  2023-10-18 00:00:00     175.84\n",
              "21  2023-10-19 00:00:00     175.46"
            ]
          },
          "execution_count": 15,
          "metadata": {},
          "output_type": "execute_result"
        }
      ],
      "source": [
        "data"
      ]
    },
    {
      "cell_type": "code",
      "execution_count": 18,
      "metadata": {
        "colab": {
          "base_uri": "https://localhost:8080/",
          "height": 393
        },
        "id": "Ihl0G-MmfyYC",
        "outputId": "bf189381-18ec-4b29-d464-e96cd7fac8e0"
      },
      "outputs": [],
      "source": [
        "scaler=MinMaxScaler(feature_range=(0,1))\n",
        "data.index=data.Date\n",
        "data.drop(\"Date\",axis=1,inplace=True)\n",
        "final_data = data.values\n",
        "train_data=final_data[0:200,:]\n",
        "valid_data=final_data[200:,:]\n",
        "scaled_data=scaler.fit_transform(final_data)\n",
        "\n",
        "x_train_data,y_train_data=[],[]\n",
        "\n",
        "for i in range(10,len(train_data)):\n",
        "    x_train_data.append(scaled_data[i-10:i,0])\n",
        "    y_train_data.append(scaled_data[i,0])"
      ]
    },
    {
      "cell_type": "code",
      "execution_count": 19,
      "metadata": {
        "colab": {
          "base_uri": "https://localhost:8080/",
          "height": 178
        },
        "id": "0WYuwcBHsKZ3",
        "outputId": "50758583-2242-4cc8-ce41-483622e32d1b"
      },
      "outputs": [
        {
          "data": {
            "text/plain": [
              "[array([0.4922179 , 0.34046693, 0.42412451, 0.54961089, 0.14883268,\n",
              "        0.        , 0.02529183, 0.07587549, 0.3229572 , 0.19163424]),\n",
              " array([0.34046693, 0.42412451, 0.54961089, 0.14883268, 0.        ,\n",
              "        0.02529183, 0.07587549, 0.3229572 , 0.19163424, 0.31420233]),\n",
              " array([0.42412451, 0.54961089, 0.14883268, 0.        , 0.02529183,\n",
              "        0.07587549, 0.3229572 , 0.19163424, 0.31420233, 0.43579767]),\n",
              " array([0.54961089, 0.14883268, 0.        , 0.02529183, 0.07587549,\n",
              "        0.3229572 , 0.19163424, 0.31420233, 0.43579767, 0.68677043]),\n",
              " array([0.14883268, 0.        , 0.02529183, 0.07587549, 0.3229572 ,\n",
              "        0.19163424, 0.31420233, 0.43579767, 0.68677043, 0.83268482]),\n",
              " array([0.        , 0.02529183, 0.07587549, 0.3229572 , 0.19163424,\n",
              "        0.31420233, 0.43579767, 0.68677043, 0.83268482, 0.77431907]),\n",
              " array([0.02529183, 0.07587549, 0.3229572 , 0.19163424, 0.31420233,\n",
              "        0.43579767, 0.68677043, 0.83268482, 0.77431907, 0.9114786 ]),\n",
              " array([0.07587549, 0.3229572 , 0.19163424, 0.31420233, 0.43579767,\n",
              "        0.68677043, 0.83268482, 0.77431907, 0.9114786 , 1.        ]),\n",
              " array([0.3229572 , 0.19163424, 0.31420233, 0.43579767, 0.68677043,\n",
              "        0.83268482, 0.77431907, 0.9114786 , 1.        , 0.81906615]),\n",
              " array([0.19163424, 0.31420233, 0.43579767, 0.68677043, 0.83268482,\n",
              "        0.77431907, 0.9114786 , 1.        , 0.81906615, 0.80642023]),\n",
              " array([0.31420233, 0.43579767, 0.68677043, 0.83268482, 0.77431907,\n",
              "        0.9114786 , 1.        , 0.81906615, 0.80642023, 0.6536965 ]),\n",
              " array([0.43579767, 0.68677043, 0.83268482, 0.77431907, 0.9114786 ,\n",
              "        1.        , 0.81906615, 0.80642023, 0.6536965 , 0.52626459])]"
            ]
          },
          "execution_count": 19,
          "metadata": {},
          "output_type": "execute_result"
        }
      ],
      "source": [
        "x_train_data"
      ]
    },
    {
      "cell_type": "code",
      "execution_count": 47,
      "metadata": {
        "id": "4AbK9e8GnpSx"
      },
      "outputs": [],
      "source": [
        "import numpy as np\n",
        "from keras.models import Sequential\n",
        "from keras.layers import LSTM, Dense\n",
        "\n",
        "x_train_data = np.array(x_train_data)\n",
        "\n",
        "lstm_model = Sequential()\n",
        "lstm_model.add(LSTM(units=10, return_sequences=True, input_shape=(np.shape(x_train_data)[1], 1)))\n",
        "lstm_model.add(LSTM(units=10))\n",
        "lstm_model.add(Dense(units=1))"
      ]
    },
    {
      "cell_type": "code",
      "execution_count": 54,
      "metadata": {
        "id": "XqPU8OoTqKEi"
      },
      "outputs": [
        {
          "name": "stdout",
          "output_type": "stream",
          "text": [
            "12/12 - 2s - loss: 0.0574 - 2s/epoch - 129ms/step\n"
          ]
        }
      ],
      "source": [
        "lstm_model.compile(loss='mean_squared_error',optimizer='adam')\n",
        "x_train_data=np.array(x_train_data)\n",
        "y_train_data=np.array(y_train_data)\n",
        "lstm_model.fit(x_train_data,y_train_data,epochs=1,batch_size=1,verbose=2)\n",
        "X_test=[]\n",
        "\n",
        "for i in range(10, final_data.shape[0]):\n",
        "  X_test.append(final_data[i-10:i,0])\n",
        "X_test=np.array(X_test)\n",
        "X_test=np.reshape(X_test,(X_test.shape[0],X_test.shape[1],1))\n"
      ]
    },
    {
      "cell_type": "code",
      "execution_count": 55,
      "metadata": {},
      "outputs": [
        {
          "name": "stdout",
          "output_type": "stream",
          "text": [
            "[[[175.49]\n",
            "  [173.93]\n",
            "  [174.79]\n",
            "  [176.08]\n",
            "  [171.96]\n",
            "  [170.43]\n",
            "  [170.69]\n",
            "  [171.21]\n",
            "  [173.75]\n",
            "  [172.4]]\n",
            "\n",
            " [[173.93]\n",
            "  [174.79]\n",
            "  [176.08]\n",
            "  [171.96]\n",
            "  [170.43]\n",
            "  [170.69]\n",
            "  [171.21]\n",
            "  [173.75]\n",
            "  [172.4]\n",
            "  [173.66]]\n",
            "\n",
            " [[174.79]\n",
            "  [176.08]\n",
            "  [171.96]\n",
            "  [170.43]\n",
            "  [170.69]\n",
            "  [171.21]\n",
            "  [173.75]\n",
            "  [172.4]\n",
            "  [173.66]\n",
            "  [174.91]]\n",
            "\n",
            " [[176.08]\n",
            "  [171.96]\n",
            "  [170.43]\n",
            "  [170.69]\n",
            "  [171.21]\n",
            "  [173.75]\n",
            "  [172.4]\n",
            "  [173.66]\n",
            "  [174.91]\n",
            "  [177.49]]\n",
            "\n",
            " [[171.96]\n",
            "  [170.43]\n",
            "  [170.69]\n",
            "  [171.21]\n",
            "  [173.75]\n",
            "  [172.4]\n",
            "  [173.66]\n",
            "  [174.91]\n",
            "  [177.49]\n",
            "  [178.99]]\n",
            "\n",
            " [[170.43]\n",
            "  [170.69]\n",
            "  [171.21]\n",
            "  [173.75]\n",
            "  [172.4]\n",
            "  [173.66]\n",
            "  [174.91]\n",
            "  [177.49]\n",
            "  [178.99]\n",
            "  [178.39]]\n",
            "\n",
            " [[170.69]\n",
            "  [171.21]\n",
            "  [173.75]\n",
            "  [172.4]\n",
            "  [173.66]\n",
            "  [174.91]\n",
            "  [177.49]\n",
            "  [178.99]\n",
            "  [178.39]\n",
            "  [179.8]]\n",
            "\n",
            " [[171.21]\n",
            "  [173.75]\n",
            "  [172.4]\n",
            "  [173.66]\n",
            "  [174.91]\n",
            "  [177.49]\n",
            "  [178.99]\n",
            "  [178.39]\n",
            "  [179.8]\n",
            "  [180.71]]\n",
            "\n",
            " [[173.75]\n",
            "  [172.4]\n",
            "  [173.66]\n",
            "  [174.91]\n",
            "  [177.49]\n",
            "  [178.99]\n",
            "  [178.39]\n",
            "  [179.8]\n",
            "  [180.71]\n",
            "  [178.85]]\n",
            "\n",
            " [[172.4]\n",
            "  [173.66]\n",
            "  [174.91]\n",
            "  [177.49]\n",
            "  [178.99]\n",
            "  [178.39]\n",
            "  [179.8]\n",
            "  [180.71]\n",
            "  [178.85]\n",
            "  [178.72]]\n",
            "\n",
            " [[173.66]\n",
            "  [174.91]\n",
            "  [177.49]\n",
            "  [178.99]\n",
            "  [178.39]\n",
            "  [179.8]\n",
            "  [180.71]\n",
            "  [178.85]\n",
            "  [178.72]\n",
            "  [177.15]]\n",
            "\n",
            " [[174.91]\n",
            "  [177.49]\n",
            "  [178.99]\n",
            "  [178.39]\n",
            "  [179.8]\n",
            "  [180.71]\n",
            "  [178.85]\n",
            "  [178.72]\n",
            "  [177.15]\n",
            "  [175.84]]]\n",
            "(12, 10, 1)\n"
          ]
        }
      ],
      "source": [
        "print(X_test)\n",
        "print(X_test.shape)\n"
      ]
    },
    {
      "cell_type": "code",
      "execution_count": 75,
      "metadata": {},
      "outputs": [
        {
          "name": "stdout",
          "output_type": "stream",
          "text": [
            "[[[175.49]\n",
            "  [173.93]\n",
            "  [174.79]\n",
            "  [176.08]\n",
            "  [171.96]\n",
            "  [170.43]\n",
            "  [170.69]\n",
            "  [171.21]\n",
            "  [173.75]\n",
            "  [172.4]]\n",
            "\n",
            " [[173.93]\n",
            "  [174.79]\n",
            "  [176.08]\n",
            "  [171.96]\n",
            "  [170.43]\n",
            "  [170.69]\n",
            "  [171.21]\n",
            "  [173.75]\n",
            "  [172.4]\n",
            "  [173.66]]\n",
            "\n",
            " [[174.79]\n",
            "  [176.08]\n",
            "  [171.96]\n",
            "  [170.43]\n",
            "  [170.69]\n",
            "  [171.21]\n",
            "  [173.75]\n",
            "  [172.4]\n",
            "  [173.66]\n",
            "  [174.91]]\n",
            "\n",
            " [[176.08]\n",
            "  [171.96]\n",
            "  [170.43]\n",
            "  [170.69]\n",
            "  [171.21]\n",
            "  [173.75]\n",
            "  [172.4]\n",
            "  [173.66]\n",
            "  [174.91]\n",
            "  [177.49]]\n",
            "\n",
            " [[171.96]\n",
            "  [170.43]\n",
            "  [170.69]\n",
            "  [171.21]\n",
            "  [173.75]\n",
            "  [172.4]\n",
            "  [173.66]\n",
            "  [174.91]\n",
            "  [177.49]\n",
            "  [178.99]]\n",
            "\n",
            " [[170.43]\n",
            "  [170.69]\n",
            "  [171.21]\n",
            "  [173.75]\n",
            "  [172.4]\n",
            "  [173.66]\n",
            "  [174.91]\n",
            "  [177.49]\n",
            "  [178.99]\n",
            "  [178.39]]\n",
            "\n",
            " [[170.69]\n",
            "  [171.21]\n",
            "  [173.75]\n",
            "  [172.4]\n",
            "  [173.66]\n",
            "  [174.91]\n",
            "  [177.49]\n",
            "  [178.99]\n",
            "  [178.39]\n",
            "  [179.8]]\n",
            "\n",
            " [[171.21]\n",
            "  [173.75]\n",
            "  [172.4]\n",
            "  [173.66]\n",
            "  [174.91]\n",
            "  [177.49]\n",
            "  [178.99]\n",
            "  [178.39]\n",
            "  [179.8]\n",
            "  [180.71]]\n",
            "\n",
            " [[173.75]\n",
            "  [172.4]\n",
            "  [173.66]\n",
            "  [174.91]\n",
            "  [177.49]\n",
            "  [178.99]\n",
            "  [178.39]\n",
            "  [179.8]\n",
            "  [180.71]\n",
            "  [178.85]]\n",
            "\n",
            " [[172.4]\n",
            "  [173.66]\n",
            "  [174.91]\n",
            "  [177.49]\n",
            "  [178.99]\n",
            "  [178.39]\n",
            "  [179.8]\n",
            "  [180.71]\n",
            "  [178.85]\n",
            "  [178.72]]\n",
            "\n",
            " [[173.66]\n",
            "  [174.91]\n",
            "  [177.49]\n",
            "  [178.99]\n",
            "  [178.39]\n",
            "  [179.8]\n",
            "  [180.71]\n",
            "  [178.85]\n",
            "  [178.72]\n",
            "  [177.15]]\n",
            "\n",
            " [[174.91]\n",
            "  [177.49]\n",
            "  [178.99]\n",
            "  [178.39]\n",
            "  [179.8]\n",
            "  [180.71]\n",
            "  [178.85]\n",
            "  [178.72]\n",
            "  [177.15]\n",
            "  [175.84]]]\n"
          ]
        }
      ],
      "source": [
        "print(X_test)"
      ]
    },
    {
      "cell_type": "code",
      "execution_count": 77,
      "metadata": {},
      "outputs": [
        {
          "name": "stdout",
          "output_type": "stream",
          "text": [
            "Requirement already satisfied: keras in d:\\anaconda3\\envs\\test10\\lib\\site-packages (2.10.0)\n",
            "Collecting keras\n",
            "  Using cached keras-2.14.0-py3-none-any.whl.metadata (2.4 kB)\n",
            "Requirement already satisfied: tensorflow in d:\\anaconda3\\envs\\test10\\lib\\site-packages (2.10.0)\n",
            "Collecting tensorflow\n",
            "  Using cached tensorflow-2.14.0-cp310-cp310-win_amd64.whl.metadata (3.3 kB)\n",
            "Requirement already satisfied: tensorflow-intel==2.14.0 in d:\\anaconda3\\envs\\test10\\lib\\site-packages (from tensorflow) (2.14.0)\n",
            "Requirement already satisfied: absl-py>=1.0.0 in d:\\anaconda3\\envs\\test10\\lib\\site-packages (from tensorflow-intel==2.14.0->tensorflow) (1.4.0)\n",
            "Requirement already satisfied: astunparse>=1.6.0 in d:\\anaconda3\\envs\\test10\\lib\\site-packages (from tensorflow-intel==2.14.0->tensorflow) (1.6.3)\n",
            "Collecting flatbuffers>=23.5.26 (from tensorflow-intel==2.14.0->tensorflow)\n",
            "  Using cached flatbuffers-23.5.26-py2.py3-none-any.whl.metadata (850 bytes)\n",
            "Requirement already satisfied: gast!=0.5.0,!=0.5.1,!=0.5.2,>=0.2.1 in d:\\anaconda3\\envs\\test10\\lib\\site-packages (from tensorflow-intel==2.14.0->tensorflow) (0.4.0)\n",
            "Requirement already satisfied: google-pasta>=0.1.1 in d:\\anaconda3\\envs\\test10\\lib\\site-packages (from tensorflow-intel==2.14.0->tensorflow) (0.2.0)\n",
            "Requirement already satisfied: h5py>=2.9.0 in d:\\anaconda3\\envs\\test10\\lib\\site-packages (from tensorflow-intel==2.14.0->tensorflow) (3.10.0)\n",
            "Requirement already satisfied: libclang>=13.0.0 in d:\\anaconda3\\envs\\test10\\lib\\site-packages (from tensorflow-intel==2.14.0->tensorflow) (16.0.6)\n",
            "Requirement already satisfied: ml-dtypes==0.2.0 in d:\\anaconda3\\envs\\test10\\lib\\site-packages (from tensorflow-intel==2.14.0->tensorflow) (0.2.0)\n",
            "Requirement already satisfied: numpy>=1.23.5 in d:\\anaconda3\\envs\\test10\\lib\\site-packages (from tensorflow-intel==2.14.0->tensorflow) (1.26.0)\n",
            "Requirement already satisfied: opt-einsum>=2.3.2 in d:\\anaconda3\\envs\\test10\\lib\\site-packages (from tensorflow-intel==2.14.0->tensorflow) (3.3.0)\n",
            "Requirement already satisfied: packaging in d:\\anaconda3\\envs\\test10\\lib\\site-packages (from tensorflow-intel==2.14.0->tensorflow) (23.2)\n",
            "Requirement already satisfied: protobuf!=4.21.0,!=4.21.1,!=4.21.2,!=4.21.3,!=4.21.4,!=4.21.5,<5.0.0dev,>=3.20.3 in d:\\anaconda3\\envs\\test10\\lib\\site-packages (from tensorflow-intel==2.14.0->tensorflow) (3.20.3)\n",
            "Requirement already satisfied: setuptools in d:\\anaconda3\\envs\\test10\\lib\\site-packages (from tensorflow-intel==2.14.0->tensorflow) (68.0.0)\n",
            "Requirement already satisfied: six>=1.12.0 in d:\\anaconda3\\envs\\test10\\lib\\site-packages (from tensorflow-intel==2.14.0->tensorflow) (1.16.0)\n",
            "Requirement already satisfied: termcolor>=1.1.0 in d:\\anaconda3\\envs\\test10\\lib\\site-packages (from tensorflow-intel==2.14.0->tensorflow) (2.1.0)\n",
            "Requirement already satisfied: typing-extensions>=3.6.6 in d:\\anaconda3\\envs\\test10\\lib\\site-packages (from tensorflow-intel==2.14.0->tensorflow) (4.8.0)\n",
            "Requirement already satisfied: wrapt<1.15,>=1.11.0 in d:\\anaconda3\\envs\\test10\\lib\\site-packages (from tensorflow-intel==2.14.0->tensorflow) (1.14.1)\n",
            "Requirement already satisfied: tensorflow-io-gcs-filesystem>=0.23.1 in d:\\anaconda3\\envs\\test10\\lib\\site-packages (from tensorflow-intel==2.14.0->tensorflow) (0.31.0)\n",
            "Requirement already satisfied: grpcio<2.0,>=1.24.3 in d:\\anaconda3\\envs\\test10\\lib\\site-packages (from tensorflow-intel==2.14.0->tensorflow) (1.48.2)\n",
            "Collecting tensorboard<2.15,>=2.14 (from tensorflow-intel==2.14.0->tensorflow)\n",
            "  Using cached tensorboard-2.14.1-py3-none-any.whl.metadata (1.7 kB)\n",
            "Collecting tensorflow-estimator<2.15,>=2.14.0 (from tensorflow-intel==2.14.0->tensorflow)\n",
            "  Using cached tensorflow_estimator-2.14.0-py2.py3-none-any.whl.metadata (1.3 kB)\n",
            "Requirement already satisfied: wheel<1.0,>=0.23.0 in d:\\anaconda3\\envs\\test10\\lib\\site-packages (from astunparse>=1.6.0->tensorflow-intel==2.14.0->tensorflow) (0.41.2)\n",
            "Requirement already satisfied: google-auth<3,>=1.6.3 in d:\\anaconda3\\envs\\test10\\lib\\site-packages (from tensorboard<2.15,>=2.14->tensorflow-intel==2.14.0->tensorflow) (2.22.0)\n",
            "Collecting google-auth-oauthlib<1.1,>=0.5 (from tensorboard<2.15,>=2.14->tensorflow-intel==2.14.0->tensorflow)\n",
            "  Using cached google_auth_oauthlib-1.0.0-py2.py3-none-any.whl (18 kB)\n",
            "Requirement already satisfied: markdown>=2.6.8 in d:\\anaconda3\\envs\\test10\\lib\\site-packages (from tensorboard<2.15,>=2.14->tensorflow-intel==2.14.0->tensorflow) (3.4.1)\n",
            "Requirement already satisfied: requests<3,>=2.21.0 in d:\\anaconda3\\envs\\test10\\lib\\site-packages (from tensorboard<2.15,>=2.14->tensorflow-intel==2.14.0->tensorflow) (2.31.0)\n",
            "Collecting tensorboard-data-server<0.8.0,>=0.7.0 (from tensorboard<2.15,>=2.14->tensorflow-intel==2.14.0->tensorflow)\n",
            "  Using cached tensorboard_data_server-0.7.1-py3-none-any.whl.metadata (1.1 kB)\n",
            "Requirement already satisfied: werkzeug>=1.0.1 in d:\\anaconda3\\envs\\test10\\lib\\site-packages (from tensorboard<2.15,>=2.14->tensorflow-intel==2.14.0->tensorflow) (2.2.3)\n",
            "Requirement already satisfied: cachetools<6.0,>=2.0.0 in d:\\anaconda3\\envs\\test10\\lib\\site-packages (from google-auth<3,>=1.6.3->tensorboard<2.15,>=2.14->tensorflow-intel==2.14.0->tensorflow) (4.2.2)\n",
            "Requirement already satisfied: pyasn1-modules>=0.2.1 in d:\\anaconda3\\envs\\test10\\lib\\site-packages (from google-auth<3,>=1.6.3->tensorboard<2.15,>=2.14->tensorflow-intel==2.14.0->tensorflow) (0.2.8)\n",
            "Requirement already satisfied: rsa<5,>=3.1.4 in d:\\anaconda3\\envs\\test10\\lib\\site-packages (from google-auth<3,>=1.6.3->tensorboard<2.15,>=2.14->tensorflow-intel==2.14.0->tensorflow) (4.7.2)\n",
            "Requirement already satisfied: urllib3<2.0 in d:\\anaconda3\\envs\\test10\\lib\\site-packages (from google-auth<3,>=1.6.3->tensorboard<2.15,>=2.14->tensorflow-intel==2.14.0->tensorflow) (1.26.16)\n",
            "Requirement already satisfied: requests-oauthlib>=0.7.0 in d:\\anaconda3\\envs\\test10\\lib\\site-packages (from google-auth-oauthlib<1.1,>=0.5->tensorboard<2.15,>=2.14->tensorflow-intel==2.14.0->tensorflow) (1.3.0)\n",
            "Requirement already satisfied: charset-normalizer<4,>=2 in d:\\anaconda3\\envs\\test10\\lib\\site-packages (from requests<3,>=2.21.0->tensorboard<2.15,>=2.14->tensorflow-intel==2.14.0->tensorflow) (2.0.4)\n",
            "Requirement already satisfied: idna<4,>=2.5 in d:\\anaconda3\\envs\\test10\\lib\\site-packages (from requests<3,>=2.21.0->tensorboard<2.15,>=2.14->tensorflow-intel==2.14.0->tensorflow) (3.4)\n",
            "Requirement already satisfied: certifi>=2017.4.17 in d:\\anaconda3\\envs\\test10\\lib\\site-packages (from requests<3,>=2.21.0->tensorboard<2.15,>=2.14->tensorflow-intel==2.14.0->tensorflow) (2023.7.22)\n",
            "Requirement already satisfied: MarkupSafe>=2.1.1 in d:\\anaconda3\\envs\\test10\\lib\\site-packages (from werkzeug>=1.0.1->tensorboard<2.15,>=2.14->tensorflow-intel==2.14.0->tensorflow) (2.1.1)\n",
            "Requirement already satisfied: pyasn1<0.5.0,>=0.4.6 in d:\\anaconda3\\envs\\test10\\lib\\site-packages (from pyasn1-modules>=0.2.1->google-auth<3,>=1.6.3->tensorboard<2.15,>=2.14->tensorflow-intel==2.14.0->tensorflow) (0.4.8)\n",
            "Requirement already satisfied: oauthlib>=3.0.0 in d:\\anaconda3\\envs\\test10\\lib\\site-packages (from requests-oauthlib>=0.7.0->google-auth-oauthlib<1.1,>=0.5->tensorboard<2.15,>=2.14->tensorflow-intel==2.14.0->tensorflow) (3.2.2)\n",
            "Using cached keras-2.14.0-py3-none-any.whl (1.7 MB)\n",
            "Using cached tensorflow-2.14.0-cp310-cp310-win_amd64.whl (2.1 kB)\n",
            "Using cached flatbuffers-23.5.26-py2.py3-none-any.whl (26 kB)\n",
            "Using cached tensorboard-2.14.1-py3-none-any.whl (5.5 MB)\n",
            "Using cached tensorflow_estimator-2.14.0-py2.py3-none-any.whl (440 kB)\n",
            "Using cached tensorboard_data_server-0.7.1-py3-none-any.whl (2.4 kB)\n",
            "Installing collected packages: flatbuffers, tensorflow-estimator, tensorboard-data-server, keras, google-auth-oauthlib, tensorboard, tensorflow\n",
            "  Attempting uninstall: flatbuffers\n",
            "    Found existing installation: flatbuffers 2.0\n",
            "    Uninstalling flatbuffers-2.0:\n",
            "      Successfully uninstalled flatbuffers-2.0\n",
            "  Attempting uninstall: tensorflow-estimator\n",
            "    Found existing installation: tensorflow-estimator 2.10.0\n",
            "    Uninstalling tensorflow-estimator-2.10.0:\n",
            "      Successfully uninstalled tensorflow-estimator-2.10.0\n",
            "  Attempting uninstall: tensorboard-data-server\n",
            "    Found existing installation: tensorboard-data-server 0.6.1\n",
            "    Uninstalling tensorboard-data-server-0.6.1:\n",
            "      Successfully uninstalled tensorboard-data-server-0.6.1\n",
            "  Attempting uninstall: keras\n",
            "    Found existing installation: keras 2.10.0\n",
            "    Uninstalling keras-2.10.0:\n",
            "      Successfully uninstalled keras-2.10.0\n",
            "  Attempting uninstall: google-auth-oauthlib\n",
            "    Found existing installation: google-auth-oauthlib 0.4.4\n",
            "    Uninstalling google-auth-oauthlib-0.4.4:\n",
            "      Successfully uninstalled google-auth-oauthlib-0.4.4\n",
            "  Attempting uninstall: tensorboard\n",
            "    Found existing installation: tensorboard 2.10.0\n",
            "    Uninstalling tensorboard-2.10.0:\n",
            "      Successfully uninstalled tensorboard-2.10.0\n",
            "  Attempting uninstall: tensorflow\n",
            "    Found existing installation: tensorflow 2.10.0\n",
            "    Uninstalling tensorflow-2.10.0:\n",
            "Note: you may need to restart the kernel to use updated packages.\n"
          ]
        },
        {
          "name": "stderr",
          "output_type": "stream",
          "text": [
            "ERROR: Could not install packages due to an OSError: [WinError 5] 拒绝访问。: 'd:\\\\anaconda3\\\\envs\\\\test10\\\\lib\\\\site-packages\\\\tensorflow\\\\python\\\\_pywrap_dtensor_device.pyd'\n",
            "Consider using the `--user` option or check the permissions.\n",
            "\n"
          ]
        }
      ],
      "source": [
        "pip install --upgrade keras tensorflow\n"
      ]
    },
    {
      "cell_type": "code",
      "execution_count": 78,
      "metadata": {},
      "outputs": [],
      "source": [
        "import tensorflow as tf\n",
        "from tensorflow import keras"
      ]
    },
    {
      "cell_type": "code",
      "execution_count": 81,
      "metadata": {},
      "outputs": [],
      "source": [
        "X_test = X_test.astype('float32')\n",
        "X_test_tf = tf.convert_to_tensor(X_test)"
      ]
    },
    {
      "cell_type": "code",
      "execution_count": 82,
      "metadata": {},
      "outputs": [
        {
          "name": "stdout",
          "output_type": "stream",
          "text": [
            "1/1 [==============================] - 0s 448ms/step\n"
          ]
        }
      ],
      "source": [
        "predicted_stock_price = lstm_model.predict(X_test_tf)"
      ]
    },
    {
      "cell_type": "code",
      "execution_count": 83,
      "metadata": {
        "id": "3z7KjpAruAqT"
      },
      "outputs": [],
      "source": [
        "predicted_stock_price=scaler.inverse_transform(predicted_stock_price)"
      ]
    },
    {
      "cell_type": "code",
      "execution_count": 88,
      "metadata": {
        "id": "2i-lz5QAqVKK"
      },
      "outputs": [],
      "source": [
        "train_data=data[:200]\n",
        "valid_data=data[200:]\n"
      ]
    },
    {
      "cell_type": "code",
      "execution_count": 142,
      "metadata": {},
      "outputs": [
        {
          "name": "stdout",
          "output_type": "stream",
          "text": [
            "Length of predicted_stock_price: 22\n"
          ]
        }
      ],
      "source": [
        "predicted_stock_price_length = len(predicted_stock_price)\n",
        "print(\"Length of predicted_stock_price:\", predicted_stock_price_length)\n"
      ]
    },
    {
      "cell_type": "code",
      "execution_count": 143,
      "metadata": {},
      "outputs": [
        {
          "name": "stdout",
          "output_type": "stream",
          "text": [
            "Length of valid_data: 22\n"
          ]
        }
      ],
      "source": [
        "valid_data_length = len(valid_data)\n",
        "print(\"Length of valid_data:\", valid_data_length)\n"
      ]
    },
    {
      "cell_type": "code",
      "execution_count": 138,
      "metadata": {},
      "outputs": [
        {
          "ename": "ValueError",
          "evalue": "Cannot set a DataFrame with multiple columns to the single column Predictions",
          "output_type": "error",
          "traceback": [
            "\u001b[1;31m---------------------------------------------------------------------------\u001b[0m",
            "\u001b[1;31mValueError\u001b[0m                                Traceback (most recent call last)",
            "\u001b[1;32m~\\AppData\\Local\\Temp\\ipykernel_30136\\3066098687.py\u001b[0m in \u001b[0;36m?\u001b[1;34m()\u001b[0m\n\u001b[1;32m----> 1\u001b[1;33m \u001b[0mvalid_data\u001b[0m\u001b[1;33m[\u001b[0m\u001b[1;34m'Predictions'\u001b[0m\u001b[1;33m]\u001b[0m \u001b[1;33m=\u001b[0m \u001b[0mpredicted_stock_price\u001b[0m\u001b[1;33m\u001b[0m\u001b[1;33m\u001b[0m\u001b[0m\n\u001b[0m",
            "\u001b[1;32md:\\anaconda3\\envs\\test10\\lib\\site-packages\\pandas\\core\\frame.py\u001b[0m in \u001b[0;36m?\u001b[1;34m(self, key, value)\u001b[0m\n\u001b[0;32m   4080\u001b[0m             \u001b[0mself\u001b[0m\u001b[1;33m.\u001b[0m\u001b[0m_setitem_frame\u001b[0m\u001b[1;33m(\u001b[0m\u001b[0mkey\u001b[0m\u001b[1;33m,\u001b[0m \u001b[0mvalue\u001b[0m\u001b[1;33m)\u001b[0m\u001b[1;33m\u001b[0m\u001b[1;33m\u001b[0m\u001b[0m\n\u001b[0;32m   4081\u001b[0m         \u001b[1;32melif\u001b[0m \u001b[0misinstance\u001b[0m\u001b[1;33m(\u001b[0m\u001b[0mkey\u001b[0m\u001b[1;33m,\u001b[0m \u001b[1;33m(\u001b[0m\u001b[0mSeries\u001b[0m\u001b[1;33m,\u001b[0m \u001b[0mnp\u001b[0m\u001b[1;33m.\u001b[0m\u001b[0mndarray\u001b[0m\u001b[1;33m,\u001b[0m \u001b[0mlist\u001b[0m\u001b[1;33m,\u001b[0m \u001b[0mIndex\u001b[0m\u001b[1;33m)\u001b[0m\u001b[1;33m)\u001b[0m\u001b[1;33m:\u001b[0m\u001b[1;33m\u001b[0m\u001b[1;33m\u001b[0m\u001b[0m\n\u001b[0;32m   4082\u001b[0m             \u001b[0mself\u001b[0m\u001b[1;33m.\u001b[0m\u001b[0m_setitem_array\u001b[0m\u001b[1;33m(\u001b[0m\u001b[0mkey\u001b[0m\u001b[1;33m,\u001b[0m \u001b[0mvalue\u001b[0m\u001b[1;33m)\u001b[0m\u001b[1;33m\u001b[0m\u001b[1;33m\u001b[0m\u001b[0m\n\u001b[0;32m   4083\u001b[0m         \u001b[1;32melif\u001b[0m \u001b[0misinstance\u001b[0m\u001b[1;33m(\u001b[0m\u001b[0mvalue\u001b[0m\u001b[1;33m,\u001b[0m \u001b[0mDataFrame\u001b[0m\u001b[1;33m)\u001b[0m\u001b[1;33m:\u001b[0m\u001b[1;33m\u001b[0m\u001b[1;33m\u001b[0m\u001b[0m\n\u001b[1;32m-> 4084\u001b[1;33m             \u001b[0mself\u001b[0m\u001b[1;33m.\u001b[0m\u001b[0m_set_item_frame_value\u001b[0m\u001b[1;33m(\u001b[0m\u001b[0mkey\u001b[0m\u001b[1;33m,\u001b[0m \u001b[0mvalue\u001b[0m\u001b[1;33m)\u001b[0m\u001b[1;33m\u001b[0m\u001b[1;33m\u001b[0m\u001b[0m\n\u001b[0m\u001b[0;32m   4085\u001b[0m         elif (\n\u001b[0;32m   4086\u001b[0m             \u001b[0mis_list_like\u001b[0m\u001b[1;33m(\u001b[0m\u001b[0mvalue\u001b[0m\u001b[1;33m)\u001b[0m\u001b[1;33m\u001b[0m\u001b[1;33m\u001b[0m\u001b[0m\n\u001b[0;32m   4087\u001b[0m             \u001b[1;32mand\u001b[0m \u001b[1;32mnot\u001b[0m \u001b[0mself\u001b[0m\u001b[1;33m.\u001b[0m\u001b[0mcolumns\u001b[0m\u001b[1;33m.\u001b[0m\u001b[0mis_unique\u001b[0m\u001b[1;33m\u001b[0m\u001b[1;33m\u001b[0m\u001b[0m\n",
            "\u001b[1;32md:\\anaconda3\\envs\\test10\\lib\\site-packages\\pandas\\core\\frame.py\u001b[0m in \u001b[0;36m?\u001b[1;34m(self, key, value)\u001b[0m\n\u001b[0;32m   4238\u001b[0m \u001b[1;33m\u001b[0m\u001b[0m\n\u001b[0;32m   4239\u001b[0m             \u001b[1;32mreturn\u001b[0m \u001b[0mself\u001b[0m\u001b[1;33m.\u001b[0m\u001b[0misetitem\u001b[0m\u001b[1;33m(\u001b[0m\u001b[0mlocs\u001b[0m\u001b[1;33m,\u001b[0m \u001b[0mvalue\u001b[0m\u001b[1;33m)\u001b[0m\u001b[1;33m\u001b[0m\u001b[1;33m\u001b[0m\u001b[0m\n\u001b[0;32m   4240\u001b[0m \u001b[1;33m\u001b[0m\u001b[0m\n\u001b[0;32m   4241\u001b[0m         \u001b[1;32mif\u001b[0m \u001b[0mlen\u001b[0m\u001b[1;33m(\u001b[0m\u001b[0mvalue\u001b[0m\u001b[1;33m.\u001b[0m\u001b[0mcolumns\u001b[0m\u001b[1;33m)\u001b[0m \u001b[1;33m!=\u001b[0m \u001b[1;36m1\u001b[0m\u001b[1;33m:\u001b[0m\u001b[1;33m\u001b[0m\u001b[1;33m\u001b[0m\u001b[0m\n\u001b[1;32m-> 4242\u001b[1;33m             raise ValueError(\n\u001b[0m\u001b[0;32m   4243\u001b[0m                 \u001b[1;34m\"Cannot set a DataFrame with multiple columns to the single \"\u001b[0m\u001b[1;33m\u001b[0m\u001b[1;33m\u001b[0m\u001b[0m\n\u001b[0;32m   4244\u001b[0m                 \u001b[1;34mf\"column {key}\"\u001b[0m\u001b[1;33m\u001b[0m\u001b[1;33m\u001b[0m\u001b[0m\n\u001b[0;32m   4245\u001b[0m             )\n",
            "\u001b[1;31mValueError\u001b[0m: Cannot set a DataFrame with multiple columns to the single column Predictions"
          ]
        }
      ],
      "source": [
        "valid_data['Predictions'] = predicted_stock_price\n"
      ]
    },
    {
      "cell_type": "code",
      "execution_count": 145,
      "metadata": {},
      "outputs": [
        {
          "ename": "KeyError",
          "evalue": "\"['Predictions'] not in index\"",
          "output_type": "error",
          "traceback": [
            "\u001b[1;31m---------------------------------------------------------------------------\u001b[0m",
            "\u001b[1;31mKeyError\u001b[0m                                  Traceback (most recent call last)",
            "\u001b[1;32mc:\\Users\\97492\\Desktop\\Github\\Untitlednew6.ipynb 单元格 33\u001b[0m line \u001b[0;36m2\n\u001b[0;32m      <a href='vscode-notebook-cell:/c%3A/Users/97492/Desktop/Github/Untitlednew6.ipynb#X65sZmlsZQ%3D%3D?line=0'>1</a>\u001b[0m plt\u001b[39m.\u001b[39mplot(train_data[\u001b[39m\"\u001b[39m\u001b[39mClose/Last\u001b[39m\u001b[39m\"\u001b[39m])\n\u001b[1;32m----> <a href='vscode-notebook-cell:/c%3A/Users/97492/Desktop/Github/Untitlednew6.ipynb#X65sZmlsZQ%3D%3D?line=1'>2</a>\u001b[0m plt\u001b[39m.\u001b[39mplot(valid_data[[\u001b[39m'\u001b[39;49m\u001b[39mClose/Last\u001b[39;49m\u001b[39m'\u001b[39;49m, \u001b[39m\"\u001b[39;49m\u001b[39mPredictions\u001b[39;49m\u001b[39m\"\u001b[39;49m]])\n\u001b[0;32m      <a href='vscode-notebook-cell:/c%3A/Users/97492/Desktop/Github/Untitlednew6.ipynb#X65sZmlsZQ%3D%3D?line=2'>3</a>\u001b[0m plt\u001b[39m.\u001b[39mshow()\n",
            "File \u001b[1;32md:\\anaconda3\\envs\\test10\\lib\\site-packages\\pandas\\core\\frame.py:3902\u001b[0m, in \u001b[0;36mDataFrame.__getitem__\u001b[1;34m(self, key)\u001b[0m\n\u001b[0;32m   3900\u001b[0m     \u001b[39mif\u001b[39;00m is_iterator(key):\n\u001b[0;32m   3901\u001b[0m         key \u001b[39m=\u001b[39m \u001b[39mlist\u001b[39m(key)\n\u001b[1;32m-> 3902\u001b[0m     indexer \u001b[39m=\u001b[39m \u001b[39mself\u001b[39;49m\u001b[39m.\u001b[39;49mcolumns\u001b[39m.\u001b[39;49m_get_indexer_strict(key, \u001b[39m\"\u001b[39;49m\u001b[39mcolumns\u001b[39;49m\u001b[39m\"\u001b[39;49m)[\u001b[39m1\u001b[39m]\n\u001b[0;32m   3904\u001b[0m \u001b[39m# take() does not accept boolean indexers\u001b[39;00m\n\u001b[0;32m   3905\u001b[0m \u001b[39mif\u001b[39;00m \u001b[39mgetattr\u001b[39m(indexer, \u001b[39m\"\u001b[39m\u001b[39mdtype\u001b[39m\u001b[39m\"\u001b[39m, \u001b[39mNone\u001b[39;00m) \u001b[39m==\u001b[39m \u001b[39mbool\u001b[39m:\n",
            "File \u001b[1;32md:\\anaconda3\\envs\\test10\\lib\\site-packages\\pandas\\core\\indexes\\base.py:6114\u001b[0m, in \u001b[0;36mIndex._get_indexer_strict\u001b[1;34m(self, key, axis_name)\u001b[0m\n\u001b[0;32m   6111\u001b[0m \u001b[39melse\u001b[39;00m:\n\u001b[0;32m   6112\u001b[0m     keyarr, indexer, new_indexer \u001b[39m=\u001b[39m \u001b[39mself\u001b[39m\u001b[39m.\u001b[39m_reindex_non_unique(keyarr)\n\u001b[1;32m-> 6114\u001b[0m \u001b[39mself\u001b[39;49m\u001b[39m.\u001b[39;49m_raise_if_missing(keyarr, indexer, axis_name)\n\u001b[0;32m   6116\u001b[0m keyarr \u001b[39m=\u001b[39m \u001b[39mself\u001b[39m\u001b[39m.\u001b[39mtake(indexer)\n\u001b[0;32m   6117\u001b[0m \u001b[39mif\u001b[39;00m \u001b[39misinstance\u001b[39m(key, Index):\n\u001b[0;32m   6118\u001b[0m     \u001b[39m# GH 42790 - Preserve name from an Index\u001b[39;00m\n",
            "File \u001b[1;32md:\\anaconda3\\envs\\test10\\lib\\site-packages\\pandas\\core\\indexes\\base.py:6178\u001b[0m, in \u001b[0;36mIndex._raise_if_missing\u001b[1;34m(self, key, indexer, axis_name)\u001b[0m\n\u001b[0;32m   6175\u001b[0m     \u001b[39mraise\u001b[39;00m \u001b[39mKeyError\u001b[39;00m(\u001b[39mf\u001b[39m\u001b[39m\"\u001b[39m\u001b[39mNone of [\u001b[39m\u001b[39m{\u001b[39;00mkey\u001b[39m}\u001b[39;00m\u001b[39m] are in the [\u001b[39m\u001b[39m{\u001b[39;00maxis_name\u001b[39m}\u001b[39;00m\u001b[39m]\u001b[39m\u001b[39m\"\u001b[39m)\n\u001b[0;32m   6177\u001b[0m not_found \u001b[39m=\u001b[39m \u001b[39mlist\u001b[39m(ensure_index(key)[missing_mask\u001b[39m.\u001b[39mnonzero()[\u001b[39m0\u001b[39m]]\u001b[39m.\u001b[39munique())\n\u001b[1;32m-> 6178\u001b[0m \u001b[39mraise\u001b[39;00m \u001b[39mKeyError\u001b[39;00m(\u001b[39mf\u001b[39m\u001b[39m\"\u001b[39m\u001b[39m{\u001b[39;00mnot_found\u001b[39m}\u001b[39;00m\u001b[39m not in index\u001b[39m\u001b[39m\"\u001b[39m)\n",
            "\u001b[1;31mKeyError\u001b[0m: \"['Predictions'] not in index\""
          ]
        },
        {
          "data": {
            "image/png": "[encoded data removed]",
            "text/plain": [
              "<Figure size 2000x1000 with 1 Axes>"
            ]
          },
          "metadata": {},
          "output_type": "display_data"
        }
      ],
      "source": [
        "plt.plot(train_data[\"Close/Last\"])\n",
        "plt.plot(valid_data[['Close/Last', \"Predictions\"]])\n",
        "plt.show()"
      ]
    }
  ],
  "metadata": {
    "colab": {
      "provenance": []
    },
    "kernelspec": {
      "display_name": "Python 3",
      "name": "python3"
    },
    "language_info": {
      "codemirror_mode": {
        "name": "ipython",
        "version": 3
      },
      "file_extension": ".py",
      "mimetype": "text/x-python",
      "name": "python",
      "nbconvert_exporter": "python",
      "pygments_lexer": "ipython3",
      "version": "3.10.13"
    }
  },
  "nbformat": 4,
  "nbformat_minor": 0
}
