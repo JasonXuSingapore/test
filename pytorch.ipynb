{
 "cells": [
  {
   "cell_type": "code",
   "execution_count": 5,
   "metadata": {},
   "outputs": [
    {
     "name": "stdout",
     "output_type": "stream",
     "text": [
      "tensor([[0., 0.],\n",
      "        [0., 0.],\n",
      "        [0., 0.]])\n",
      "tensor([[0., 0., 0.],\n",
      "        [0., 0., 0.]])\n"
     ]
    }
   ],
   "source": [
    "import torch\n",
    "a = torch.ones(3)\n",
    "a[1]\n",
    "float(a[1])\n",
    "a[2] = 2\n",
    "a\n",
    "# 使用.zeros是获取适当大小的数组的一种方法\n",
    "points = torch.zeros(6)\n",
    "# 用所需的值覆盖这些0\n",
    "points[0] = 1.0\n",
    "points[1] = 4.0\n",
    "points[2] = 2.0\n",
    "points[3] = 1.0\n",
    "points[4] = 3.0\n",
    "points[5] = 5.0\n",
    "points = torch.tensor([1.0, 4.0, 2.0, 1.0, 3.0, 5.0])\n",
    "points\n",
    "float(points[0]),float(points[1])\n",
    "points = torch.tensor([[1.0, 4.0], [2.0, 1.0], [3.0, 5.0]])\n",
    "points.shape\n",
    "points=torch.zeros(3,2)\n",
    "points\n",
    "points=torch.FloatTensor([[1.0, 4.0], [2.0, 1.0], [3.0, 5.0]])\n",
    "points[0,1]\n",
    "points[0]\n",
    "points = torch.tensor([[1.0, 4.0], [2.0, 1.0], [3.0, 5.0]])\n",
    "#points.storage()\n",
    "points_storage = points.storage()\n",
    "points_storage[0] = 2.0\n",
    "points.storage()[1]\n",
    "points\n",
    "second_point = points[1]\n",
    "#print(second_point)\n",
    "second_point.storage_offset()## 获取新张量的存储偏移量\n",
    "second_point.size()\n",
    "second_point.shape\n",
    "points.stride()\n",
    "second_point.storage_offset()\n",
    "second_point.stride()\n",
    "points=torch.FloatTensor([[1.0, 4.0], [2.0, 1.0], [3.0, 5.0]])\n",
    "second_point = points[1].clone()\n",
    "second_point[0] = 10.0\n",
    "points_t=points.t()#转置\n",
    "points_t\n",
    "id(points.storage()) == id(points_t.storage())\n",
    "points.stride()\n",
    "points_t.stride()\n",
    "some_tensor = torch.ones(3, 4, 5)\n",
    "#print(some_tensor)\n",
    "some_tensor.shape\n",
    "some_tensor.stride()## 获取张量的步幅\n",
    "some_tensor_t=some_tensor.transpose(0, 2)\n",
    "#print(some_tensor_t)\n",
    "some_tensor_t.shape,some_tensor_t.stride()\n",
    "points.is_contiguous(), points_t.is_contiguous()\n",
    "points = torch.tensor([[1.0, 4.0], [2.0, 1.0], [3.0, 5.0]])\n",
    "#print(points)\n",
    "points_t = points.t()\n",
    "#print(points_t)\n",
    "points_t.storage()# 获取张量的底层数据存储\n",
    "points_t.stride()\n",
    "points_t_cont = points_t.contiguous()\n",
    "points_t_cont\n",
    "points_t_cont.stride()\n",
    "points_t_cont.storage()#重构\n",
    "\n",
    "a = torch.ones(3, 2)\n",
    "a.zero_()\n",
    "print(a)\n",
    "#a_t = torch.transpose(a, 0, 1)\n",
    "\n",
    "a_t = a.transpose(0,1)\n",
    "print(a_t)"
   ]
  },
  {
   "cell_type": "code",
   "execution_count": 28,
   "metadata": {},
   "outputs": [
    {
     "name": "stdout",
     "output_type": "stream",
     "text": [
      "tensor([0., 1., 2., 3., 4., 5., 6., 7., 8.])\n",
      "torch.Size([9])\n",
      "0\n",
      "(1,)\n",
      "tensor([[0., 1., 2.],\n",
      "        [3., 4., 5.],\n",
      "        [6., 7., 8.]])\n",
      "tensor(4.)\n",
      "tensor([[4., 5.],\n",
      "        [7., 8.]])\n",
      "torch.Size([9])\n",
      "0\n",
      "(1,)\n"
     ]
    },
    {
     "data": {
      "text/plain": [
       "tensor([1.0000, 0.7351,    nan,    nan,    nan, 0.5326, 0.9799, 0.8683,    nan])"
      ]
     },
     "execution_count": 28,
     "metadata": {},
     "output_type": "execute_result"
    }
   ],
   "source": [
    "#从list(range(9))创建一个张量a，然后预测并验证一下尺寸、偏移和步长。\n",
    "a = torch.Tensor(list(range(9)))\n",
    "print(a)\n",
    "print(a.shape) #尺寸\n",
    "print(a.storage_offset())#偏移\n",
    "print(a.stride())#步长\n",
    "#创建一个张量b = a.view(3, 3)，b[1,1]的值是多少？\n",
    "b = a.view(3,3)\n",
    "print(b)\n",
    "print(b[1,1])\n",
    "#创建一个张量c = b [1:, 1:]，然后预测并验证一下尺寸、偏移和步长。\n",
    "c = b[1:,1:]\n",
    "print(c)\n",
    "print(a.shape) #尺寸\n",
    "print(a.storage_offset())#偏移\n",
    "print(a.stride())#步长\n",
    "#选择一个余弦或平方根之类的数学运算。你能找到在torch找到正确的对应方法吗？\n",
    "result =torch.cos(a.float())\n",
    "#print(result)\n",
    "a = a.float()\n",
    "a.cos_()\n",
    "#你刚刚选择的函数有就地（inplace）版本吗？\n",
    "#平方根\n",
    "result = torch.sqrt(a.float())\n",
    "#print(result)\n",
    "a = a.float()\n",
    "a.sqrt_()"
   ]
  },
  {
   "cell_type": "code",
   "execution_count": 60,
   "metadata": {},
   "outputs": [
    {
     "data": {
      "text/plain": [
       "array([[ 7.  ,  0.27,  0.36, ...,  0.45,  8.8 ,  6.  ],\n",
       "       [ 6.3 ,  0.3 ,  0.34, ...,  0.49,  9.5 ,  6.  ],\n",
       "       [ 8.1 ,  0.28,  0.4 , ...,  0.44, 10.1 ,  6.  ],\n",
       "       ...,\n",
       "       [ 6.5 ,  0.24,  0.19, ...,  0.46,  9.4 ,  6.  ],\n",
       "       [ 5.5 ,  0.29,  0.3 , ...,  0.38, 12.8 ,  7.  ],\n",
       "       [ 6.  ,  0.21,  0.38, ...,  0.32, 11.8 ,  6.  ]], dtype=float32)"
      ]
     },
     "execution_count": 60,
     "metadata": {},
     "output_type": "execute_result"
    }
   ],
   "source": [
    "#白葡萄酒品鉴\n",
    "import numpy as np \n",
    "import csv\n",
    "wine_path = \"/Users/mac/Documents/GitHub/test/winequality-white.csv\"\n",
    "\n",
    "wineq_numpy = np.loadtxt(wine_path, dtype=np.float32,delimiter=',', skiprows=1)  # skiprows=1 用于跳过标题行（如果有的话）\n",
    "#wineq_numpy = np.genfromtxt(wine_path, delimiter=',', skip_header=1)  # skip_header=1 用于跳过标题行（如果有的话）\n",
    "\n",
    "#wineq_nump = pd.read_csv(wine_path)\n",
    "wineq_numpy\n",
    "#wineq_nump.head()"
   ]
  },
  {
   "cell_type": "code",
   "execution_count": 61,
   "metadata": {},
   "outputs": [
    {
     "data": {
      "text/plain": [
       "((4898, 12),\n",
       " ['fixed acidity,volatile acidity,citric acid,residual sugar,chlorides,free sulfur dioxide,total sulfur dioxide,density,pH,sulphates,alcohol,quality'])"
      ]
     },
     "execution_count": 61,
     "metadata": {},
     "output_type": "execute_result"
    }
   ],
   "source": [
    "col_list = next(csv.reader(open(wine_path), delimiter=';'))\n",
    "wineq_numpy.shape, col_list"
   ]
  },
  {
   "cell_type": "code",
   "execution_count": 62,
   "metadata": {},
   "outputs": [
    {
     "data": {
      "text/plain": [
       "(torch.Size([4898, 12]), 'torch.FloatTensor')"
      ]
     },
     "execution_count": 62,
     "metadata": {},
     "output_type": "execute_result"
    }
   ],
   "source": [
    "wineq = torch.from_numpy(wineq_numpy)\n",
    "wineq.shape,wineq.type()"
   ]
  },
  {
   "cell_type": "code",
   "execution_count": 110,
   "metadata": {},
   "outputs": [
    {
     "name": "stdout",
     "output_type": "stream",
     "text": [
      " 0 fixed acidity,volatile acidity,citric acid,residual sugar,chlorides,free sulfur dioxide,total sulfur dioxide,density,pH,sulphates,alcohol,quality   7.60   6.89   6.73\n",
      "3258\n"
     ]
    },
    {
     "data": {
      "text/plain": [
       "(2018, 0.74000733406674, 0.6193984039287906)"
      ]
     },
     "execution_count": 110,
     "metadata": {},
     "output_type": "execute_result"
    }
   ],
   "source": [
    "data = wineq[:,:-1]\n",
    "data,data.shape\n",
    "#print(wineq)\n",
    "target = wineq[:,-1].long() #获取最后一列 葡萄酒质量分数\n",
    "#print(target)\n",
    "\n",
    "target_onehot = torch.zeros(target.shape[0],10)\n",
    "#print(target_onehot)\n",
    "target_onehot.scatter_(1,target.unsqueeze(1),1.0)\n",
    "#print(target)\n",
    "target_unsqueeze = target.unsqueeze(1) #横的tensor变竖的\n",
    "target_unsqueeze\n",
    "\n",
    "data_mean = torch.mean(data,dim = 0)#平均值 dim = 0表示沿维数0进行计算\n",
    "data_mean\n",
    "data_var = torch.var(data,dim=0)#标准差\n",
    "#归一化\n",
    "data_normalized = (data - data_mean)/torch.sqrt(data_var)\n",
    "data_normalized\n",
    "\n",
    "bad_indexes = torch.le(target,3)\n",
    "bad_indexes.shape,bad_indexes.dtype,bad_indexes.sum()#只有20个元素小于3\n",
    "\n",
    "bad_data = data[bad_indexes]\n",
    "bad_data.shape\n",
    "\n",
    "bad_data = data[torch.le(target,3)]#le <=\n",
    "# 对于numpy数组和PyTorch张量，＆运算符执行逻辑和运算\n",
    "mid_data = data[torch.gt(target,3) & torch.lt(target,7)] #gt > lt<\n",
    "good_data = data[torch.ge(target,7)]#ge >=\n",
    "bad_mean = torch.mean(bad_data,dim = 0)#平均值 dim = 0表示沿维数0进行计算\n",
    "mid_mean = torch.mean(mid_data, dim=0)\n",
    "good_mean = torch.mean(good_data, dim=0)\n",
    "#print(bad_mean)\n",
    "#print(mid_mean)\n",
    "#print(good_mean)\n",
    "for i, args in enumerate(zip(col_list, bad_mean, mid_mean, good_mean)):\n",
    "    print('{:2} {:20} {:6.2f} {:6.2f} {:6.2f}'.format(i, *args))\n",
    "\n",
    "total_sulfur_threshold = 141.83\n",
    "#print(total_sulfur_threshold)\n",
    "total_sulfur_data = data[:,6]\n",
    "#print(total_sulfur_data)\n",
    "predicted_indexes = torch.lt(total_sulfur_data, total_sulfur_threshold)\n",
    "predicted_indexes.shape, predicted_indexes.dtype, predicted_indexes.sum()\n",
    "\n",
    "actual_indexes = torch.gt(target, 5)\n",
    "actual_indexes.shape, actual_indexes.dtype, actual_indexes.sum()\n",
    "\n",
    "n_matches = torch.sum(actual_indexes & predicted_indexes).item()#item作用 取出tensor(3)里的3\n",
    "#print(n_matches)\n",
    "n_predicted = torch.sum(predicted_indexes).item()\n",
    "#print(n_predicted)\n",
    "n_actual = torch.sum(actual_indexes).item()\n",
    "#print(n_actual)\n",
    "n_matches, n_matches / n_predicted, n_matches / n_actual\n",
    "#有大约2,000例葡萄酒预测对了！因为预测有大约2700例（高品质）葡萄酒，所以有74％的可能性确实是高品质的。不幸的是，实际有约3200例优质葡萄酒，仅预测出了61％。好吧，我们猜你已经知道了，这个结果仅比随机猜要好一点点。\n",
    "\n",
    "#当然，这个例子太天真了。你可以肯定地知道，葡萄酒的质量受多个变量影响，并且，这些变量的值与质量（可能是实际得分，而不是好/坏这种二值）之间的关系很可能比简单的单个值的阈值更复杂。\n",
    "\n",
    "#实际上，一个简单的神经网络就将克服所有这些缺点，就像许多其他基本的机器学习方法一样。在完成第5章和第6章后，你将拥有解决此问题的工具，在第5章中，你将从头开始构建第一个神经网络。\n",
    "    "
   ]
  },
  {
   "cell_type": "code",
   "execution_count": null,
   "metadata": {},
   "outputs": [],
   "source": []
  }
 ],
 "metadata": {
  "kernelspec": {
   "display_name": "pandas-dev",
   "language": "python",
   "name": "python3"
  },
  "language_info": {
   "codemirror_mode": {
    "name": "ipython",
    "version": 3
   },
   "file_extension": ".py",
   "mimetype": "text/x-python",
   "name": "python",
   "nbconvert_exporter": "python",
   "pygments_lexer": "ipython3",
   "version": "3.10.12"
  },
  "orig_nbformat": 4
 },
 "nbformat": 4,
 "nbformat_minor": 2
}
